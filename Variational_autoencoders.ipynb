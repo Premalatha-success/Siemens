{
  "cells": [
    {
      "cell_type": "code",
      "execution_count": null,
      "metadata": {
        "colab": {
          "base_uri": "https://localhost:8080/"
        },
        "id": "DicYENWUOIj0",
        "outputId": "5aa7f6bb-0e41-4da6-f435-f6c4f5fc9f9c"
      },
      "outputs": [
        {
          "output_type": "stream",
          "name": "stdout",
          "text": [
            "Epoch 1/50\n",
            "469/469 [==============================] - 120s 251ms/step - loss: 214.7083 - val_loss: 189.4995\n",
            "Epoch 2/50\n",
            "469/469 [==============================] - 110s 235ms/step - loss: 182.1242 - val_loss: 176.1511\n",
            "Epoch 3/50\n",
            "469/469 [==============================] - 110s 235ms/step - loss: 172.4741 - val_loss: 170.2677\n",
            "Epoch 4/50\n",
            "469/469 [==============================] - 112s 238ms/step - loss: 167.4780 - val_loss: 166.1004\n",
            "Epoch 5/50\n",
            "469/469 [==============================] - 105s 225ms/step - loss: 164.6384 - val_loss: 163.5730\n",
            "Epoch 6/50\n",
            "469/469 [==============================] - 114s 242ms/step - loss: 162.8442 - val_loss: 162.0373\n",
            "Epoch 7/50\n",
            "469/469 [==============================] - 122s 260ms/step - loss: 161.3409 - val_loss: 160.6514\n",
            "Epoch 8/50\n",
            "469/469 [==============================] - 117s 250ms/step - loss: 160.0056 - val_loss: 159.3291\n",
            "Epoch 9/50\n",
            "469/469 [==============================] - 108s 231ms/step - loss: 158.8600 - val_loss: 158.5383\n",
            "Epoch 10/50\n",
            "469/469 [==============================] - 116s 247ms/step - loss: 157.9784 - val_loss: 158.0007\n",
            "Epoch 11/50\n",
            "469/469 [==============================] - 110s 234ms/step - loss: 157.2071 - val_loss: 156.6697\n",
            "Epoch 12/50\n",
            "469/469 [==============================] - 109s 233ms/step - loss: 156.7098 - val_loss: 156.9392\n",
            "Epoch 13/50\n",
            "469/469 [==============================] - 107s 227ms/step - loss: 156.1867 - val_loss: 155.7234\n",
            "Epoch 14/50\n",
            "469/469 [==============================] - 113s 241ms/step - loss: 155.6810 - val_loss: 156.0297\n",
            "Epoch 15/50\n",
            "469/469 [==============================] - 110s 234ms/step - loss: 155.3043 - val_loss: 155.4240\n",
            "Epoch 16/50\n",
            "469/469 [==============================] - 109s 232ms/step - loss: 154.8580 - val_loss: 155.1733\n",
            "Epoch 17/50\n",
            "469/469 [==============================] - 135s 287ms/step - loss: 154.6221 - val_loss: 155.0488\n",
            "Epoch 18/50\n",
            "469/469 [==============================] - 118s 251ms/step - loss: 154.3707 - val_loss: 154.6691\n",
            "Epoch 19/50\n",
            "469/469 [==============================] - 117s 249ms/step - loss: 154.0263 - val_loss: 154.2801\n",
            "Epoch 20/50\n",
            "469/469 [==============================] - 120s 256ms/step - loss: 153.8022 - val_loss: 154.2955\n",
            "Epoch 21/50\n",
            "469/469 [==============================] - 109s 233ms/step - loss: 153.6007 - val_loss: 154.3537\n",
            "Epoch 22/50\n",
            "469/469 [==============================] - 108s 231ms/step - loss: 153.4434 - val_loss: 153.9013\n",
            "Epoch 23/50\n",
            "469/469 [==============================] - 107s 229ms/step - loss: 153.2370 - val_loss: 154.3851\n",
            "Epoch 24/50\n",
            "469/469 [==============================] - 105s 224ms/step - loss: 153.2078 - val_loss: 153.4670\n",
            "Epoch 25/50\n",
            "469/469 [==============================] - 102s 218ms/step - loss: 152.8548 - val_loss: 153.3373\n",
            "Epoch 26/50\n",
            "469/469 [==============================] - 101s 215ms/step - loss: 152.8031 - val_loss: 153.7068\n",
            "Epoch 27/50\n",
            "469/469 [==============================] - 99s 211ms/step - loss: 152.6376 - val_loss: 153.3755\n",
            "Epoch 28/50\n",
            "469/469 [==============================] - 100s 212ms/step - loss: 152.5053 - val_loss: 152.8501\n",
            "Epoch 29/50\n",
            "469/469 [==============================] - 100s 213ms/step - loss: 152.3665 - val_loss: 153.1729\n",
            "Epoch 30/50\n",
            "469/469 [==============================] - 100s 214ms/step - loss: 152.3085 - val_loss: 153.0084\n",
            "Epoch 31/50\n",
            "469/469 [==============================] - 99s 212ms/step - loss: 152.0987 - val_loss: 152.9354\n",
            "Epoch 32/50\n",
            "469/469 [==============================] - 104s 223ms/step - loss: 151.9481 - val_loss: 153.6802\n",
            "Epoch 33/50\n",
            "469/469 [==============================] - 99s 212ms/step - loss: 151.8921 - val_loss: 152.9272\n",
            "Epoch 34/50\n",
            "469/469 [==============================] - 102s 218ms/step - loss: 151.8262 - val_loss: 152.6226\n",
            "Epoch 35/50\n",
            "469/469 [==============================] - 102s 217ms/step - loss: 151.6274 - val_loss: 152.7675\n",
            "Epoch 36/50\n",
            "469/469 [==============================] - 100s 214ms/step - loss: 151.6447 - val_loss: 152.5155\n",
            "Epoch 37/50\n",
            "469/469 [==============================] - 103s 220ms/step - loss: 151.5721 - val_loss: 152.8072\n",
            "Epoch 38/50\n",
            "469/469 [==============================] - 106s 226ms/step - loss: 151.4042 - val_loss: 152.7470\n",
            "Epoch 39/50\n",
            "469/469 [==============================] - 104s 221ms/step - loss: 151.3492 - val_loss: 152.6496\n",
            "Epoch 40/50\n",
            "469/469 [==============================] - 110s 235ms/step - loss: 151.3037 - val_loss: 152.7306\n",
            "Epoch 41/50\n",
            "469/469 [==============================] - 108s 230ms/step - loss: 151.2747 - val_loss: 152.3891\n",
            "Epoch 42/50\n",
            "469/469 [==============================] - 105s 225ms/step - loss: 151.1276 - val_loss: 152.4464\n",
            "Epoch 43/50\n",
            "469/469 [==============================] - 105s 224ms/step - loss: 150.9908 - val_loss: 152.7469\n",
            "Epoch 44/50\n",
            "469/469 [==============================] - 108s 231ms/step - loss: 150.9615 - val_loss: 152.9049\n",
            "Epoch 45/50\n",
            "469/469 [==============================] - 107s 228ms/step - loss: 150.9587 - val_loss: 152.2417\n",
            "Epoch 46/50\n",
            "469/469 [==============================] - 104s 222ms/step - loss: 150.8505 - val_loss: 152.2867\n",
            "Epoch 47/50\n",
            "469/469 [==============================] - 105s 225ms/step - loss: 150.8283 - val_loss: 152.3793\n",
            "Epoch 48/50\n",
            "469/469 [==============================] - 104s 222ms/step - loss: 150.6841 - val_loss: 152.8489\n",
            "Epoch 49/50\n",
            "469/469 [==============================] - 103s 220ms/step - loss: 150.6990 - val_loss: 152.4601\n",
            "Epoch 50/50\n",
            "469/469 [==============================] - 102s 218ms/step - loss: 150.6481 - val_loss: 152.3785\n"
          ]
        },
        {
          "output_type": "execute_result",
          "data": {
            "text/plain": [
              "<keras.src.callbacks.History at 0x7b6b60539150>"
            ]
          },
          "metadata": {},
          "execution_count": 2
        }
      ],
      "source": [
        "import numpy as np\n",
        "import tensorflow as tf\n",
        "from tensorflow import keras\n",
        "from tensorflow.keras import layers\n",
        "\n",
        "# Define the latent dimension (number of dimensions in the latent space)\n",
        "latent_dim = 16  # You can choose any value that suits your problem\n",
        "\n",
        "# Load and preprocess the MNIST dataset\n",
        "(x_train, _), (x_test, _) = keras.datasets.mnist.load_data()\n",
        "x_train = x_train.astype(\"float32\") / 255.0\n",
        "x_test = x_test.astype(\"float32\") / 255.0\n",
        "\n",
        "# Encoder\n",
        "encoder_inputs = keras.Input(shape=(28, 28, 1))\n",
        "x = layers.Conv2D(32, 3, activation=\"relu\", strides=2, padding=\"same\")(encoder_inputs)\n",
        "x = layers.Conv2D(64, 3, activation=\"relu\", strides=2, padding=\"same\")(x)\n",
        "x = layers.Flatten()(x)\n",
        "x = layers.Dense(16, activation=\"relu\")(x)\n",
        "\n",
        "# Define the mean and log variance layers\n",
        "z_mean = layers.Dense(latent_dim, name=\"z_mean\")(x)\n",
        "z_log_var = layers.Dense(latent_dim, name=\"z_log_var\")(x)\n",
        "\n",
        "# Define the sampling function\n",
        "def sampling(args):\n",
        "    z_mean, z_log_var = args\n",
        "    epsilon = tf.random.normal(shape=(tf.shape(z_mean)[0], latent_dim), mean=0.0, stddev=1.0)\n",
        "    return z_mean + tf.exp(0.5 * z_log_var) * epsilon\n",
        "\n",
        "# Sampling layer\n",
        "z = layers.Lambda(sampling)([z_mean, z_log_var])\n",
        "\n",
        "# Decoder\n",
        "decoder_inputs = keras.Input(shape=(latent_dim,))\n",
        "x = layers.Dense(7 * 7 * 64, activation=\"relu\")(decoder_inputs)\n",
        "x = layers.Reshape((7, 7, 64))(x)\n",
        "x = layers.Conv2DTranspose(64, 3, activation=\"relu\", strides=2, padding=\"same\")(x)\n",
        "x = layers.Conv2DTranspose(32, 3, activation=\"relu\", strides=2, padding=\"same\")(x)\n",
        "decoder_outputs = layers.Conv2DTranspose(1, 3, activation=\"sigmoid\", padding=\"same\")(x)\n",
        "\n",
        "# Define the encoder and decoder models\n",
        "encoder = keras.Model(encoder_inputs, [z_mean, z_log_var, z], name=\"encoder\")\n",
        "decoder = keras.Model(decoder_inputs, decoder_outputs, name=\"decoder\")\n",
        "\n",
        "# VAE model\n",
        "vae_outputs = decoder(encoder(encoder_inputs)[2])\n",
        "vae = keras.Model(encoder_inputs, vae_outputs, name=\"vae\")\n",
        "\n",
        "reconstruction_loss = keras.losses.binary_crossentropy(\n",
        "    tf.keras.layers.Flatten()(encoder_inputs),\n",
        "    tf.keras.layers.Flatten()(vae_outputs)\n",
        ")\n",
        "reconstruction_loss *= original_dim\n",
        "\n",
        "kl_loss = 1 + z_log_var - tf.square(z_mean) - tf.exp(z_log_var)\n",
        "kl_loss = tf.reduce_sum(kl_loss, axis=-1)\n",
        "kl_loss *= -0.5\n",
        "vae_loss = tf.reduce_mean(reconstruction_loss + kl_loss)\n",
        "\n",
        "vae.add_loss(vae_loss)\n",
        "vae.compile(optimizer=\"adam\")\n",
        "\n",
        "# Specify the number of epochs and batch size\n",
        "epochs = 50\n",
        "batch_size = 128\n",
        "\n",
        "# Train VAE\n",
        "vae.fit(x_train, epochs=epochs, batch_size=batch_size, validation_data=(x_test, x_test))\n"
      ]
    },
    {
      "cell_type": "code",
      "execution_count": null,
      "metadata": {
        "id": "kyLox2ghOpAl",
        "colab": {
          "base_uri": "https://localhost:8080/"
        },
        "outputId": "f3d047fa-11f2-4eaf-8b92-e0a82ca77290"
      },
      "outputs": [
        {
          "output_type": "stream",
          "name": "stdout",
          "text": [
            "1/1 [==============================] - 0s 271ms/step\n"
          ]
        }
      ],
      "source": [
        "num_samples=10\n",
        "latent_space_samples = np.random.normal(size=(num_samples, latent_dim))\n",
        "generated_samples = decoder.predict(latent_space_samples)\n"
      ]
    },
    {
      "cell_type": "code",
      "source": [
        "generated_samples\n",
        "import matplotlib.pyplot as plt\n",
        "plt.show()"
      ],
      "metadata": {
        "id": "Wd6uaN1ejbDe"
      },
      "execution_count": null,
      "outputs": []
    },
    {
      "cell_type": "code",
      "source": [
        "# Visualize the reconstructed images\n",
        "n = 10\n",
        "plt.figure(figsize=(20, 4))\n",
        "for i in range(n):\n",
        "    # Original Images\n",
        "    ax = plt.subplot(2, n, i + 1)\n",
        "    plt.imshow(x_test[i].reshape(28, 28))\n",
        "    plt.gray()\n",
        "    ax.get_xaxis().set_visible(False)\n",
        "    ax.get_yaxis().set_visible(False)\n",
        "\n",
        "    # Reconstructed Images\n",
        "    ax = plt.subplot(2, n, i + 1 + n)\n",
        "    plt.imshow(generated_samples[i].reshape(28, 28))\n",
        "    plt.gray()\n",
        "    ax.get_xaxis().set_visible(False)\n",
        "    ax.get_yaxis().set_visible(False)\n",
        "plt.show()"
      ],
      "metadata": {
        "colab": {
          "base_uri": "https://localhost:8080/",
          "height": 305
        },
        "id": "8ZCtpIjjjmWh",
        "outputId": "fe262a9f-ca11-4adf-dffa-4e12b4a802c3"
      },
      "execution_count": null,
      "outputs": [
        {
          "output_type": "display_data",
          "data": {
            "text/plain": [
              "<Figure size 2000x400 with 20 Axes>"
            ],
            "image/png": "[encoded data removed]"
          },
          "metadata": {}
        }
      ]
    },
    {
      "cell_type": "code",
      "source": [],
      "metadata": {
        "id": "lycEMERqmtlL"
      },
      "execution_count": null,
      "outputs": []
    }
  ],
  "metadata": {
    "colab": {
      "provenance": []
    },
    "kernelspec": {
      "display_name": "Python 3",
      "name": "python3"
    },
    "language_info": {
      "name": "python"
    }
  },
  "nbformat": 4,
  "nbformat_minor": 0
}